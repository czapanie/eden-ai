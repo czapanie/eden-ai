{
 "cells": [
  {
   "cell_type": "code",
   "execution_count": 311,
   "metadata": {},
   "outputs": [],
   "source": [
    "import numpy as np\n",
    "import pandas as pd\n",
    "import matplotlib.pyplot as mpl"
   ]
  },
  {
   "cell_type": "code",
   "execution_count": 312,
   "metadata": {},
   "outputs": [],
   "source": [
    "df = pd.read_csv('dataset.csv')"
   ]
  },
  {
   "cell_type": "code",
   "execution_count": 313,
   "metadata": {},
   "outputs": [
    {
     "data": {
      "text/html": [
       "<div>\n",
       "<style scoped>\n",
       "    .dataframe tbody tr th:only-of-type {\n",
       "        vertical-align: middle;\n",
       "    }\n",
       "\n",
       "    .dataframe tbody tr th {\n",
       "        vertical-align: top;\n",
       "    }\n",
       "\n",
       "    .dataframe thead th {\n",
       "        text-align: right;\n",
       "    }\n",
       "</style>\n",
       "<table border=\"1\" class=\"dataframe\">\n",
       "  <thead>\n",
       "    <tr style=\"text-align: right;\">\n",
       "      <th></th>\n",
       "      <th>igalki␞Araucaria araucana</th>\n",
       "      <th>Unnamed: 1</th>\n",
       "    </tr>\n",
       "  </thead>\n",
       "  <tbody>\n",
       "    <tr>\n",
       "      <th>0</th>\n",
       "      <td>igalki␞Abies alba 'Pyramidalis'</td>\n",
       "      <td>NaN</td>\n",
       "    </tr>\n",
       "    <tr>\n",
       "      <th>1</th>\n",
       "      <td>igalki␞Abies amabilis 'Spreading Star'</td>\n",
       "      <td>NaN</td>\n",
       "    </tr>\n",
       "    <tr>\n",
       "      <th>2</th>\n",
       "      <td>igalki␞Abies balsamea 'Nana'</td>\n",
       "      <td>NaN</td>\n",
       "    </tr>\n",
       "    <tr>\n",
       "      <th>3</th>\n",
       "      <td>igalki␞Abies cephalonica 'Meyer's Dwarf'</td>\n",
       "      <td>NaN</td>\n",
       "    </tr>\n",
       "    <tr>\n",
       "      <th>4</th>\n",
       "      <td>igalki␞Abies concolor</td>\n",
       "      <td>NaN</td>\n",
       "    </tr>\n",
       "    <tr>\n",
       "      <th>...</th>\n",
       "      <td>...</td>\n",
       "      <td>...</td>\n",
       "    </tr>\n",
       "    <tr>\n",
       "      <th>2980</th>\n",
       "      <td>pnącza␞Wisteria floribunda 'Shiro-noda'</td>\n",
       "      <td>NaN</td>\n",
       "    </tr>\n",
       "    <tr>\n",
       "      <th>2981</th>\n",
       "      <td>pnącza␞Wisteria sinensis 'Caroline'</td>\n",
       "      <td>NaN</td>\n",
       "    </tr>\n",
       "    <tr>\n",
       "      <th>2982</th>\n",
       "      <td>pnącza␞Wisteria sinensis 'Prolific'</td>\n",
       "      <td>NaN</td>\n",
       "    </tr>\n",
       "    <tr>\n",
       "      <th>2983</th>\n",
       "      <td>pnącza␞Wisteria sinensis</td>\n",
       "      <td>NaN</td>\n",
       "    </tr>\n",
       "    <tr>\n",
       "      <th>2984</th>\n",
       "      <td>pnącza␞Vitis ripida</td>\n",
       "      <td>NaN</td>\n",
       "    </tr>\n",
       "  </tbody>\n",
       "</table>\n",
       "<p>2985 rows × 2 columns</p>\n",
       "</div>"
      ],
      "text/plain": [
       "                     igalki␞Araucaria araucana Unnamed: 1\n",
       "0              igalki␞Abies alba 'Pyramidalis'        NaN\n",
       "1       igalki␞Abies amabilis 'Spreading Star'        NaN\n",
       "2                 igalki␞Abies balsamea 'Nana'        NaN\n",
       "3     igalki␞Abies cephalonica 'Meyer's Dwarf'        NaN\n",
       "4                        igalki␞Abies concolor        NaN\n",
       "...                                        ...        ...\n",
       "2980   pnącza␞Wisteria floribunda 'Shiro-noda'        NaN\n",
       "2981       pnącza␞Wisteria sinensis 'Caroline'        NaN\n",
       "2982       pnącza␞Wisteria sinensis 'Prolific'        NaN\n",
       "2983                  pnącza␞Wisteria sinensis        NaN\n",
       "2984                       pnącza␞Vitis ripida        NaN\n",
       "\n",
       "[2985 rows x 2 columns]"
      ]
     },
     "execution_count": 313,
     "metadata": {},
     "output_type": "execute_result"
    }
   ],
   "source": [
    "df"
   ]
  },
  {
   "cell_type": "markdown",
   "metadata": {},
   "source": [
    "### Przygotowanie Danych"
   ]
  },
  {
   "cell_type": "code",
   "execution_count": 314,
   "metadata": {},
   "outputs": [],
   "source": [
    "column_headers = list(df.columns.values)"
   ]
  },
  {
   "cell_type": "code",
   "execution_count": 315,
   "metadata": {},
   "outputs": [],
   "source": [
    "df.columns = ['A','B']"
   ]
  },
  {
   "cell_type": "code",
   "execution_count": 316,
   "metadata": {},
   "outputs": [],
   "source": [
    "df2 = {'A' : column_headers[0], 'B' : np.nan}\n",
    "df = df._append(df2, ignore_index = True)"
   ]
  },
  {
   "cell_type": "code",
   "execution_count": 317,
   "metadata": {},
   "outputs": [
    {
     "data": {
      "text/html": [
       "<div>\n",
       "<style scoped>\n",
       "    .dataframe tbody tr th:only-of-type {\n",
       "        vertical-align: middle;\n",
       "    }\n",
       "\n",
       "    .dataframe tbody tr th {\n",
       "        vertical-align: top;\n",
       "    }\n",
       "\n",
       "    .dataframe thead th {\n",
       "        text-align: right;\n",
       "    }\n",
       "</style>\n",
       "<table border=\"1\" class=\"dataframe\">\n",
       "  <thead>\n",
       "    <tr style=\"text-align: right;\">\n",
       "      <th></th>\n",
       "      <th>A</th>\n",
       "      <th>B</th>\n",
       "    </tr>\n",
       "  </thead>\n",
       "  <tbody>\n",
       "    <tr>\n",
       "      <th>0</th>\n",
       "      <td>igalki␞Abies alba 'Pyramidalis'</td>\n",
       "      <td>NaN</td>\n",
       "    </tr>\n",
       "    <tr>\n",
       "      <th>1</th>\n",
       "      <td>igalki␞Abies amabilis 'Spreading Star'</td>\n",
       "      <td>NaN</td>\n",
       "    </tr>\n",
       "    <tr>\n",
       "      <th>2</th>\n",
       "      <td>igalki␞Abies balsamea 'Nana'</td>\n",
       "      <td>NaN</td>\n",
       "    </tr>\n",
       "    <tr>\n",
       "      <th>3</th>\n",
       "      <td>igalki␞Abies cephalonica 'Meyer's Dwarf'</td>\n",
       "      <td>NaN</td>\n",
       "    </tr>\n",
       "    <tr>\n",
       "      <th>4</th>\n",
       "      <td>igalki␞Abies concolor</td>\n",
       "      <td>NaN</td>\n",
       "    </tr>\n",
       "    <tr>\n",
       "      <th>...</th>\n",
       "      <td>...</td>\n",
       "      <td>...</td>\n",
       "    </tr>\n",
       "    <tr>\n",
       "      <th>2981</th>\n",
       "      <td>pnącza␞Wisteria sinensis 'Caroline'</td>\n",
       "      <td>NaN</td>\n",
       "    </tr>\n",
       "    <tr>\n",
       "      <th>2982</th>\n",
       "      <td>pnącza␞Wisteria sinensis 'Prolific'</td>\n",
       "      <td>NaN</td>\n",
       "    </tr>\n",
       "    <tr>\n",
       "      <th>2983</th>\n",
       "      <td>pnącza␞Wisteria sinensis</td>\n",
       "      <td>NaN</td>\n",
       "    </tr>\n",
       "    <tr>\n",
       "      <th>2984</th>\n",
       "      <td>pnącza␞Vitis ripida</td>\n",
       "      <td>NaN</td>\n",
       "    </tr>\n",
       "    <tr>\n",
       "      <th>2985</th>\n",
       "      <td>igalki␞Araucaria araucana</td>\n",
       "      <td>NaN</td>\n",
       "    </tr>\n",
       "  </tbody>\n",
       "</table>\n",
       "<p>2986 rows × 2 columns</p>\n",
       "</div>"
      ],
      "text/plain": [
       "                                             A    B\n",
       "0              igalki␞Abies alba 'Pyramidalis'  NaN\n",
       "1       igalki␞Abies amabilis 'Spreading Star'  NaN\n",
       "2                 igalki␞Abies balsamea 'Nana'  NaN\n",
       "3     igalki␞Abies cephalonica 'Meyer's Dwarf'  NaN\n",
       "4                        igalki␞Abies concolor  NaN\n",
       "...                                        ...  ...\n",
       "2981       pnącza␞Wisteria sinensis 'Caroline'  NaN\n",
       "2982       pnącza␞Wisteria sinensis 'Prolific'  NaN\n",
       "2983                  pnącza␞Wisteria sinensis  NaN\n",
       "2984                       pnącza␞Vitis ripida  NaN\n",
       "2985                 igalki␞Araucaria araucana  NaN\n",
       "\n",
       "[2986 rows x 2 columns]"
      ]
     },
     "execution_count": 317,
     "metadata": {},
     "output_type": "execute_result"
    }
   ],
   "source": [
    "df"
   ]
  },
  {
   "cell_type": "code",
   "execution_count": 318,
   "metadata": {},
   "outputs": [
    {
     "data": {
      "text/html": [
       "<div>\n",
       "<style scoped>\n",
       "    .dataframe tbody tr th:only-of-type {\n",
       "        vertical-align: middle;\n",
       "    }\n",
       "\n",
       "    .dataframe tbody tr th {\n",
       "        vertical-align: top;\n",
       "    }\n",
       "\n",
       "    .dataframe thead th {\n",
       "        text-align: right;\n",
       "    }\n",
       "</style>\n",
       "<table border=\"1\" class=\"dataframe\">\n",
       "  <thead>\n",
       "    <tr style=\"text-align: right;\">\n",
       "      <th></th>\n",
       "      <th>A</th>\n",
       "      <th>B</th>\n",
       "    </tr>\n",
       "  </thead>\n",
       "  <tbody>\n",
       "    <tr>\n",
       "      <th>523</th>\n",
       "      <td>liściaste␞Buddleja davidii in sorten</td>\n",
       "      <td>NaN</td>\n",
       "    </tr>\n",
       "    <tr>\n",
       "      <th>636</th>\n",
       "      <td>liściaste␞Cotoneaster in sorten</td>\n",
       "      <td>NaN</td>\n",
       "    </tr>\n",
       "    <tr>\n",
       "      <th>644</th>\n",
       "      <td>liściaste␞Cytisus in sorten</td>\n",
       "      <td>NaN</td>\n",
       "    </tr>\n",
       "    <tr>\n",
       "      <th>672</th>\n",
       "      <td>liściaste␞Euonymus fortunei in sorten</td>\n",
       "      <td>NaN</td>\n",
       "    </tr>\n",
       "    <tr>\n",
       "      <th>675</th>\n",
       "      <td>liściaste␞Euonymus japonicus in sorten</td>\n",
       "      <td>NaN</td>\n",
       "    </tr>\n",
       "    <tr>\n",
       "      <th>...</th>\n",
       "      <td>...</td>\n",
       "      <td>...</td>\n",
       "    </tr>\n",
       "    <tr>\n",
       "      <th>2971</th>\n",
       "      <td>pnącza␞Lonicera in sorten</td>\n",
       "      <td>NaN</td>\n",
       "    </tr>\n",
       "    <tr>\n",
       "      <th>2976</th>\n",
       "      <td>pnącza␞Schisandra chinensis in sorten</td>\n",
       "      <td>NaN</td>\n",
       "    </tr>\n",
       "    <tr>\n",
       "      <th>2977</th>\n",
       "      <td>pnącza␞Schizophragma hydrangeoides in sorten</td>\n",
       "      <td>NaN</td>\n",
       "    </tr>\n",
       "    <tr>\n",
       "      <th>2978</th>\n",
       "      <td>pnącza␞Wisteria floribunda in sorten</td>\n",
       "      <td>NaN</td>\n",
       "    </tr>\n",
       "    <tr>\n",
       "      <th>2979</th>\n",
       "      <td>pnącza␞Wisteria in sorten</td>\n",
       "      <td>NaN</td>\n",
       "    </tr>\n",
       "  </tbody>\n",
       "</table>\n",
       "<p>65 rows × 2 columns</p>\n",
       "</div>"
      ],
      "text/plain": [
       "                                                 A    B\n",
       "523           liściaste␞Buddleja davidii in sorten  NaN\n",
       "636                liściaste␞Cotoneaster in sorten  NaN\n",
       "644                    liściaste␞Cytisus in sorten  NaN\n",
       "672          liściaste␞Euonymus fortunei in sorten  NaN\n",
       "675         liściaste␞Euonymus japonicus in sorten  NaN\n",
       "...                                            ...  ...\n",
       "2971                     pnącza␞Lonicera in sorten  NaN\n",
       "2976         pnącza␞Schisandra chinensis in sorten  NaN\n",
       "2977  pnącza␞Schizophragma hydrangeoides in sorten  NaN\n",
       "2978          pnącza␞Wisteria floribunda in sorten  NaN\n",
       "2979                     pnącza␞Wisteria in sorten  NaN\n",
       "\n",
       "[65 rows x 2 columns]"
      ]
     },
     "execution_count": 318,
     "metadata": {},
     "output_type": "execute_result"
    }
   ],
   "source": [
    "df[df['A'].str.contains(\"in sorten\")]"
   ]
  },
  {
   "cell_type": "code",
   "execution_count": 319,
   "metadata": {},
   "outputs": [],
   "source": [
    "df.drop(df[df['A'].str.contains(\"in sorten\")].index, axis=0, inplace=True)"
   ]
  },
  {
   "cell_type": "code",
   "execution_count": 320,
   "metadata": {},
   "outputs": [],
   "source": [
    "df['A'] = df['A'].replace({'®' : ''}, regex=True)"
   ]
  },
  {
   "cell_type": "code",
   "execution_count": 321,
   "metadata": {},
   "outputs": [],
   "source": [
    "df['A'] = df['A'].replace({'™' : ''}, regex=True)"
   ]
  },
  {
   "cell_type": "code",
   "execution_count": 322,
   "metadata": {},
   "outputs": [],
   "source": [
    "df['A'] = df['A'].replace({'©' : ''}, regex=True)"
   ]
  },
  {
   "cell_type": "code",
   "execution_count": 323,
   "metadata": {},
   "outputs": [],
   "source": [
    "df['A'] = df['A'].replace({'PP[0-9]+' : ''}, regex=True)"
   ]
  },
  {
   "cell_type": "code",
   "execution_count": 324,
   "metadata": {},
   "outputs": [],
   "source": [
    "df['A'] = df['A'].replace({'P[0-9]+' : ''}, regex=True)"
   ]
  },
  {
   "cell_type": "code",
   "execution_count": 325,
   "metadata": {},
   "outputs": [],
   "source": [
    "df['A'] = df['A'].replace({'PP[A-Z]+' : ''}, regex=True)"
   ]
  },
  {
   "cell_type": "code",
   "execution_count": 326,
   "metadata": {},
   "outputs": [],
   "source": [
    "df['A'] = df['A'].replace({'EU[0-9]+' : ''}, regex=True)"
   ]
  },
  {
   "cell_type": "code",
   "execution_count": 327,
   "metadata": {},
   "outputs": [],
   "source": [
    "df['A'] = df['A'].replace({'E[0-9]+' : ''}, regex=True)"
   ]
  },
  {
   "cell_type": "code",
   "execution_count": 328,
   "metadata": {},
   "outputs": [],
   "source": [
    "df['A'] = df['A'].replace({'PVR' : ''}, regex=True)"
   ]
  },
  {
   "cell_type": "code",
   "execution_count": 329,
   "metadata": {},
   "outputs": [],
   "source": [
    "df['A'] = df['A'].replace({'PRV' : ''}, regex=True)"
   ]
  },
  {
   "cell_type": "code",
   "execution_count": 330,
   "metadata": {},
   "outputs": [],
   "source": [
    "# PBR miało zostać\n",
    "#df['A'] = df['A'].replace({'PBR' : ''}, regex=True)"
   ]
  },
  {
   "cell_type": "code",
   "execution_count": 331,
   "metadata": {},
   "outputs": [],
   "source": [
    "df['A'] = df['A'].replace({'WU[0-9]+' : ''}, regex=True)"
   ]
  },
  {
   "cell_type": "code",
   "execution_count": 332,
   "metadata": {},
   "outputs": [],
   "source": [
    "#df['A'] = df['A'].replace({'.[0-9]+' : ''}, regex=True)"
   ]
  },
  {
   "cell_type": "code",
   "execution_count": 333,
   "metadata": {},
   "outputs": [],
   "source": [
    "df['A'] = df['A'].replace({'\\\\+E15' : ''}, regex=True)"
   ]
  },
  {
   "cell_type": "code",
   "execution_count": 334,
   "metadata": {},
   "outputs": [],
   "source": [
    "df['A'] = df['A'].replace({'[0-9]+$' : ''}, regex=True)"
   ]
  },
  {
   "cell_type": "code",
   "execution_count": null,
   "metadata": {},
   "outputs": [],
   "source": []
  },
  {
   "cell_type": "code",
   "execution_count": 335,
   "metadata": {},
   "outputs": [],
   "source": [
    "df['A'] = df['A'].replace({'␞': ' '}, regex=True)"
   ]
  },
  {
   "cell_type": "code",
   "execution_count": 336,
   "metadata": {},
   "outputs": [
    {
     "data": {
      "text/html": [
       "<div>\n",
       "<style scoped>\n",
       "    .dataframe tbody tr th:only-of-type {\n",
       "        vertical-align: middle;\n",
       "    }\n",
       "\n",
       "    .dataframe tbody tr th {\n",
       "        vertical-align: top;\n",
       "    }\n",
       "\n",
       "    .dataframe thead th {\n",
       "        text-align: right;\n",
       "    }\n",
       "</style>\n",
       "<table border=\"1\" class=\"dataframe\">\n",
       "  <thead>\n",
       "    <tr style=\"text-align: right;\">\n",
       "      <th></th>\n",
       "      <th>A</th>\n",
       "      <th>B</th>\n",
       "    </tr>\n",
       "  </thead>\n",
       "  <tbody>\n",
       "    <tr>\n",
       "      <th>0</th>\n",
       "      <td>igalki Abies alba 'Pyramidalis'</td>\n",
       "      <td>NaN</td>\n",
       "    </tr>\n",
       "    <tr>\n",
       "      <th>1</th>\n",
       "      <td>igalki Abies amabilis 'Spreading Star'</td>\n",
       "      <td>NaN</td>\n",
       "    </tr>\n",
       "    <tr>\n",
       "      <th>2</th>\n",
       "      <td>igalki Abies balsamea 'Nana'</td>\n",
       "      <td>NaN</td>\n",
       "    </tr>\n",
       "    <tr>\n",
       "      <th>3</th>\n",
       "      <td>igalki Abies cephalonica 'Meyer's Dwarf'</td>\n",
       "      <td>NaN</td>\n",
       "    </tr>\n",
       "    <tr>\n",
       "      <th>4</th>\n",
       "      <td>igalki Abies concolor</td>\n",
       "      <td>NaN</td>\n",
       "    </tr>\n",
       "    <tr>\n",
       "      <th>...</th>\n",
       "      <td>...</td>\n",
       "      <td>...</td>\n",
       "    </tr>\n",
       "    <tr>\n",
       "      <th>2981</th>\n",
       "      <td>pnącza Wisteria sinensis 'Caroline'</td>\n",
       "      <td>NaN</td>\n",
       "    </tr>\n",
       "    <tr>\n",
       "      <th>2982</th>\n",
       "      <td>pnącza Wisteria sinensis 'Prolific'</td>\n",
       "      <td>NaN</td>\n",
       "    </tr>\n",
       "    <tr>\n",
       "      <th>2983</th>\n",
       "      <td>pnącza Wisteria sinensis</td>\n",
       "      <td>NaN</td>\n",
       "    </tr>\n",
       "    <tr>\n",
       "      <th>2984</th>\n",
       "      <td>pnącza Vitis ripida</td>\n",
       "      <td>NaN</td>\n",
       "    </tr>\n",
       "    <tr>\n",
       "      <th>2985</th>\n",
       "      <td>igalki Araucaria araucana</td>\n",
       "      <td>NaN</td>\n",
       "    </tr>\n",
       "  </tbody>\n",
       "</table>\n",
       "<p>2921 rows × 2 columns</p>\n",
       "</div>"
      ],
      "text/plain": [
       "                                             A    B\n",
       "0              igalki Abies alba 'Pyramidalis'  NaN\n",
       "1       igalki Abies amabilis 'Spreading Star'  NaN\n",
       "2                 igalki Abies balsamea 'Nana'  NaN\n",
       "3     igalki Abies cephalonica 'Meyer's Dwarf'  NaN\n",
       "4                        igalki Abies concolor  NaN\n",
       "...                                        ...  ...\n",
       "2981       pnącza Wisteria sinensis 'Caroline'  NaN\n",
       "2982       pnącza Wisteria sinensis 'Prolific'  NaN\n",
       "2983                  pnącza Wisteria sinensis  NaN\n",
       "2984                       pnącza Vitis ripida  NaN\n",
       "2985                 igalki Araucaria araucana  NaN\n",
       "\n",
       "[2921 rows x 2 columns]"
      ]
     },
     "execution_count": 336,
     "metadata": {},
     "output_type": "execute_result"
    }
   ],
   "source": [
    "df"
   ]
  },
  {
   "cell_type": "code",
   "execution_count": 337,
   "metadata": {},
   "outputs": [],
   "source": [
    "df = df['A'].replace({'\\xa0': ' '}, regex=True)"
   ]
  },
  {
   "cell_type": "code",
   "execution_count": 338,
   "metadata": {},
   "outputs": [],
   "source": []
  },
  {
   "cell_type": "markdown",
   "metadata": {},
   "source": [
    "### Do zaprogramowania"
   ]
  },
  {
   "cell_type": "markdown",
   "metadata": {},
   "source": [
    "TODO:\n",
    "- zmienić klasy na angielskie (po nauczonym modelu będzie to można zrobić\n",
    "z powrotem na Polski)\n",
    "- Jak juz bede wiedzial jak, to pozbyć sie tych liń które nie mają odmian\n",
    "- przeskanować database i poprawić reszte ręcznie"
   ]
  },
  {
   "cell_type": "code",
   "execution_count": 339,
   "metadata": {},
   "outputs": [],
   "source": [
    "# Co robić z długimi liniami z średnikami? 647"
   ]
  },
  {
   "cell_type": "code",
   "execution_count": 340,
   "metadata": {},
   "outputs": [],
   "source": [
    "# pozbyć się tych liń które nie mają odmian, ale uważając na to,\n",
    "# że niektóre rośliny ich nie mają po prostu\n",
    "\n",
    "\n",
    "# Jesli dany gatunek ma jakąś swoją kopie w databasie jeszcze i nie ma tutaj odmiany\n",
    "# to usun tą linie\n",
    "\n"
   ]
  },
  {
   "cell_type": "code",
   "execution_count": 341,
   "metadata": {},
   "outputs": [],
   "source": [
    "# pozbycie sie nawiasów i rzeczy w nich ( z wyjątkiem \"(x)\")"
   ]
  },
  {
   "cell_type": "code",
   "execution_count": 342,
   "metadata": {},
   "outputs": [],
   "source": [
    "# zmienić z drukowanych na odpowiadające w danym miejscu"
   ]
  },
  {
   "cell_type": "code",
   "execution_count": 343,
   "metadata": {},
   "outputs": [],
   "source": [
    "# 614 drop duplicates\n",
    "\n",
    "## Na koniec"
   ]
  },
  {
   "cell_type": "code",
   "execution_count": 344,
   "metadata": {},
   "outputs": [],
   "source": [
    "# liczby i ukośniki 1845"
   ]
  },
  {
   "cell_type": "code",
   "execution_count": 345,
   "metadata": {},
   "outputs": [],
   "source": [
    "# usunac wiecej niz jedna spacje"
   ]
  },
  {
   "cell_type": "markdown",
   "metadata": {},
   "source": [
    "### Do usunięcia ręcznie (nie opłaca sie pisać kodu na to)"
   ]
  },
  {
   "cell_type": "code",
   "execution_count": 346,
   "metadata": {},
   "outputs": [],
   "source": [
    "# - jakis kolor 1711"
   ]
  },
  {
   "cell_type": "code",
   "execution_count": null,
   "metadata": {},
   "outputs": [],
   "source": [
    "#df[df['A'].str.contains('GOLDEN SMARAGD')]"
   ]
  },
  {
   "cell_type": "code",
   "execution_count": 347,
   "metadata": {},
   "outputs": [],
   "source": [
    "# PROMOCJA 391"
   ]
  },
  {
   "cell_type": "code",
   "execution_count": 348,
   "metadata": {},
   "outputs": [],
   "source": [
    "# TM TM MIX 2151"
   ]
  },
  {
   "cell_type": "code",
   "execution_count": 349,
   "metadata": {},
   "outputs": [],
   "source": [
    "# usunąć EU 1823"
   ]
  },
  {
   "cell_type": "code",
   "execution_count": 350,
   "metadata": {},
   "outputs": [],
   "source": [
    "# COCTAIL -> cocktail 766"
   ]
  },
  {
   "cell_type": "code",
   "execution_count": 351,
   "metadata": {},
   "outputs": [],
   "source": [
    "# \":-((\" 749"
   ]
  },
  {
   "cell_type": "code",
   "execution_count": 352,
   "metadata": {},
   "outputs": [],
   "source": [
    "# 2011 \"(j.róż\" usunac recznie"
   ]
  },
  {
   "cell_type": "code",
   "execution_count": 353,
   "metadata": {},
   "outputs": [],
   "source": [
    "# 1915 CPBRAF usunac"
   ]
  },
  {
   "cell_type": "code",
   "execution_count": 354,
   "metadata": {},
   "outputs": [],
   "source": [
    "# 1807 numery"
   ]
  },
  {
   "cell_type": "code",
   "execution_count": 355,
   "metadata": {},
   "outputs": [],
   "source": [
    "# 1730 dwukropki "
   ]
  },
  {
   "cell_type": "code",
   "execution_count": 356,
   "metadata": {},
   "outputs": [],
   "source": [
    "#2099 nie ma czegos takiego jak WEST COUNTRY COLLECTION"
   ]
  },
  {
   "cell_type": "code",
   "execution_count": 357,
   "metadata": {},
   "outputs": [],
   "source": [
    "# 1940 Shadowland cost to cost -> coast to coast"
   ]
  },
  {
   "cell_type": "code",
   "execution_count": 358,
   "metadata": {},
   "outputs": [],
   "source": [
    "# 2692 globos+um"
   ]
  },
  {
   "cell_type": "code",
   "execution_count": 359,
   "metadata": {},
   "outputs": [],
   "source": [
    "df = df.str.split(' ', expand=True, n=3)"
   ]
  },
  {
   "cell_type": "code",
   "execution_count": 361,
   "metadata": {},
   "outputs": [],
   "source": [
    "df.columns = ['Klasa', 'Rodzina', 'Gatunek', 'Odmiana']"
   ]
  },
  {
   "cell_type": "markdown",
   "metadata": {},
   "source": [
    "### Edycja klas"
   ]
  },
  {
   "cell_type": "code",
   "execution_count": 362,
   "metadata": {},
   "outputs": [
    {
     "data": {
      "text/plain": [
       "array(['igalki', 'liściaste', 'róże', 'byliny', 'wrzosowate', 'trawy',\n",
       "       'iglaki', 'alejowe', 'owocowe', 'pnącza'], dtype=object)"
      ]
     },
     "execution_count": 362,
     "metadata": {},
     "output_type": "execute_result"
    }
   ],
   "source": [
    "df['Klasa'].unique()"
   ]
  },
  {
   "cell_type": "code",
   "execution_count": 363,
   "metadata": {},
   "outputs": [],
   "source": [
    "df['Klasa'] = df['Klasa'].replace({'igalki' : 'iglaki'}, regex=True)"
   ]
  },
  {
   "cell_type": "code",
   "execution_count": 407,
   "metadata": {},
   "outputs": [],
   "source": [
    "Klasa_database = df.Klasa.drop_duplicates()"
   ]
  },
  {
   "cell_type": "code",
   "execution_count": 433,
   "metadata": {},
   "outputs": [],
   "source": [
    "Klasa_database = Klasa_database.reset_index(drop=True)"
   ]
  },
  {
   "cell_type": "code",
   "execution_count": 434,
   "metadata": {},
   "outputs": [],
   "source": [
    "Klasa_database.to_csv(\"Klasa_database.csv\")"
   ]
  },
  {
   "cell_type": "markdown",
   "metadata": {},
   "source": [
    "### Edycja Rodzin roślin"
   ]
  },
  {
   "cell_type": "code",
   "execution_count": 366,
   "metadata": {},
   "outputs": [],
   "source": [
    "df['Rodzina'] = df['Rodzina'].replace({'Cytisis' : 'Cytisus'}, regex=True)"
   ]
  },
  {
   "cell_type": "code",
   "execution_count": 367,
   "metadata": {},
   "outputs": [],
   "source": [
    "df['Rodzina'] = df['Rodzina'].replace({'\"' : ''}, regex=True)"
   ]
  },
  {
   "cell_type": "code",
   "execution_count": 368,
   "metadata": {},
   "outputs": [],
   "source": [
    "df['Rodzina'] = df['Rodzina'].replace({'^x' : ''}, regex=True)"
   ]
  },
  {
   "cell_type": "code",
   "execution_count": 369,
   "metadata": {},
   "outputs": [],
   "source": [
    "df['Rodzina'] = df['Rodzina'].replace({'Lillium' : 'Lilium'}, regex=True)"
   ]
  },
  {
   "cell_type": "code",
   "execution_count": 371,
   "metadata": {},
   "outputs": [],
   "source": [
    "df['Rodzina'] = df['Rodzina'].replace({':$' : ''}, regex=True)"
   ]
  },
  {
   "cell_type": "code",
   "execution_count": 372,
   "metadata": {},
   "outputs": [],
   "source": [
    "df['Rodzina'] = df['Rodzina'].str.title()"
   ]
  },
  {
   "cell_type": "code",
   "execution_count": 399,
   "metadata": {},
   "outputs": [],
   "source": [
    "Rodzina_database = df['Klasa'] + \" \" +df['Rodzina']"
   ]
  },
  {
   "cell_type": "code",
   "execution_count": 430,
   "metadata": {},
   "outputs": [],
   "source": [
    "Rodzina_database = Rodzina_database.drop_duplicates()"
   ]
  },
  {
   "cell_type": "code",
   "execution_count": 431,
   "metadata": {},
   "outputs": [],
   "source": [
    "Rodzina_database = Rodzina_database.reset_index(drop=True)"
   ]
  },
  {
   "cell_type": "code",
   "execution_count": 432,
   "metadata": {},
   "outputs": [],
   "source": [
    "Rodzina_database.to_csv(\"Rodzina_database.csv\")"
   ]
  },
  {
   "cell_type": "markdown",
   "metadata": {},
   "source": [
    "### Edycja Gatunków roślin"
   ]
  },
  {
   "cell_type": "code",
   "execution_count": 374,
   "metadata": {},
   "outputs": [],
   "source": [
    "# import żebym mógł wyświetlić wszystkie różnorodne gatunki a potem odmiany\n",
    "import sys\n",
    "np.set_printoptions(threshold=sys.maxsize)"
   ]
  },
  {
   "cell_type": "code",
   "execution_count": 375,
   "metadata": {},
   "outputs": [],
   "source": [
    "df['Gatunek'] = df['Gatunek'].str.title()"
   ]
  },
  {
   "cell_type": "code",
   "execution_count": 402,
   "metadata": {},
   "outputs": [],
   "source": [
    "Gatunek_database = df['Klasa'] + \" \" + df['Rodzina'] + \" \" + df['Gatunek']"
   ]
  },
  {
   "cell_type": "code",
   "execution_count": 404,
   "metadata": {},
   "outputs": [
    {
     "data": {
      "text/plain": [
       "0                        iglaki Abies Alba\n",
       "1                    iglaki Abies Amabilis\n",
       "2                    iglaki Abies Balsamea\n",
       "3                 iglaki Abies Cephalonica\n",
       "4                    iglaki Abies Concolor\n",
       "                       ...                \n",
       "2974    pnącza Parthenocissus Tricuspidata\n",
       "2980            pnącza Wisteria Floribunda\n",
       "2981              pnącza Wisteria Sinensis\n",
       "2984                   pnącza Vitis Ripida\n",
       "2985             iglaki Araucaria Araucana\n",
       "Length: 1436, dtype: object"
      ]
     },
     "execution_count": 404,
     "metadata": {},
     "output_type": "execute_result"
    }
   ],
   "source": [
    "Gatunek_database = Gatunek_database.drop_duplicates()"
   ]
  },
  {
   "cell_type": "code",
   "execution_count": 435,
   "metadata": {},
   "outputs": [],
   "source": [
    "Gatunek_database = Gatunek_database.reset_index(drop=True)"
   ]
  },
  {
   "cell_type": "code",
   "execution_count": 436,
   "metadata": {},
   "outputs": [],
   "source": [
    "Gatunek_database.to_csv(\"Gatunek_database.csv\")"
   ]
  },
  {
   "cell_type": "markdown",
   "metadata": {},
   "source": [
    "### Edycja Odmian roślin"
   ]
  },
  {
   "cell_type": "code",
   "execution_count": 380,
   "metadata": {},
   "outputs": [
    {
     "data": {
      "text/html": [
       "<div>\n",
       "<style scoped>\n",
       "    .dataframe tbody tr th:only-of-type {\n",
       "        vertical-align: middle;\n",
       "    }\n",
       "\n",
       "    .dataframe tbody tr th {\n",
       "        vertical-align: top;\n",
       "    }\n",
       "\n",
       "    .dataframe thead th {\n",
       "        text-align: right;\n",
       "    }\n",
       "</style>\n",
       "<table border=\"1\" class=\"dataframe\">\n",
       "  <thead>\n",
       "    <tr style=\"text-align: right;\">\n",
       "      <th></th>\n",
       "      <th>Klasa</th>\n",
       "      <th>Rodzina</th>\n",
       "      <th>Gatunek</th>\n",
       "      <th>Odmiana</th>\n",
       "    </tr>\n",
       "  </thead>\n",
       "  <tbody>\n",
       "    <tr>\n",
       "      <th>0</th>\n",
       "      <td>iglaki</td>\n",
       "      <td>Abies</td>\n",
       "      <td>Alba</td>\n",
       "      <td>'Pyramidalis'</td>\n",
       "    </tr>\n",
       "    <tr>\n",
       "      <th>1</th>\n",
       "      <td>iglaki</td>\n",
       "      <td>Abies</td>\n",
       "      <td>Amabilis</td>\n",
       "      <td>'Spreading Star'</td>\n",
       "    </tr>\n",
       "    <tr>\n",
       "      <th>2</th>\n",
       "      <td>iglaki</td>\n",
       "      <td>Abies</td>\n",
       "      <td>Balsamea</td>\n",
       "      <td>'Nana'</td>\n",
       "    </tr>\n",
       "    <tr>\n",
       "      <th>3</th>\n",
       "      <td>iglaki</td>\n",
       "      <td>Abies</td>\n",
       "      <td>Cephalonica</td>\n",
       "      <td>'Meyer's Dwarf'</td>\n",
       "    </tr>\n",
       "    <tr>\n",
       "      <th>4</th>\n",
       "      <td>iglaki</td>\n",
       "      <td>Abies</td>\n",
       "      <td>Concolor</td>\n",
       "      <td>None</td>\n",
       "    </tr>\n",
       "    <tr>\n",
       "      <th>...</th>\n",
       "      <td>...</td>\n",
       "      <td>...</td>\n",
       "      <td>...</td>\n",
       "      <td>...</td>\n",
       "    </tr>\n",
       "    <tr>\n",
       "      <th>2981</th>\n",
       "      <td>pnącza</td>\n",
       "      <td>Wisteria</td>\n",
       "      <td>Sinensis</td>\n",
       "      <td>'Caroline'</td>\n",
       "    </tr>\n",
       "    <tr>\n",
       "      <th>2982</th>\n",
       "      <td>pnącza</td>\n",
       "      <td>Wisteria</td>\n",
       "      <td>Sinensis</td>\n",
       "      <td>'Prolific'</td>\n",
       "    </tr>\n",
       "    <tr>\n",
       "      <th>2983</th>\n",
       "      <td>pnącza</td>\n",
       "      <td>Wisteria</td>\n",
       "      <td>Sinensis</td>\n",
       "      <td>None</td>\n",
       "    </tr>\n",
       "    <tr>\n",
       "      <th>2984</th>\n",
       "      <td>pnącza</td>\n",
       "      <td>Vitis</td>\n",
       "      <td>Ripida</td>\n",
       "      <td>None</td>\n",
       "    </tr>\n",
       "    <tr>\n",
       "      <th>2985</th>\n",
       "      <td>iglaki</td>\n",
       "      <td>Araucaria</td>\n",
       "      <td>Araucana</td>\n",
       "      <td>None</td>\n",
       "    </tr>\n",
       "  </tbody>\n",
       "</table>\n",
       "<p>2919 rows × 4 columns</p>\n",
       "</div>"
      ],
      "text/plain": [
       "       Klasa    Rodzina      Gatunek           Odmiana\n",
       "0     iglaki      Abies         Alba     'Pyramidalis'\n",
       "1     iglaki      Abies     Amabilis  'Spreading Star'\n",
       "2     iglaki      Abies     Balsamea            'Nana'\n",
       "3     iglaki      Abies  Cephalonica   'Meyer's Dwarf'\n",
       "4     iglaki      Abies     Concolor              None\n",
       "...      ...        ...          ...               ...\n",
       "2981  pnącza   Wisteria     Sinensis        'Caroline'\n",
       "2982  pnącza   Wisteria     Sinensis        'Prolific'\n",
       "2983  pnącza   Wisteria     Sinensis              None\n",
       "2984  pnącza      Vitis       Ripida              None\n",
       "2985  iglaki  Araucaria     Araucana              None\n",
       "\n",
       "[2919 rows x 4 columns]"
      ]
     },
     "execution_count": 380,
     "metadata": {},
     "output_type": "execute_result"
    }
   ],
   "source": [
    "df.drop_duplicates()"
   ]
  },
  {
   "cell_type": "code",
   "execution_count": 381,
   "metadata": {},
   "outputs": [],
   "source": [
    "df.to_csv(\"ver2_0.csv\")"
   ]
  }
 ],
 "metadata": {
  "kernelspec": {
   "display_name": "Python 3",
   "language": "python",
   "name": "python3"
  },
  "language_info": {
   "codemirror_mode": {
    "name": "ipython",
    "version": 3
   },
   "file_extension": ".py",
   "mimetype": "text/x-python",
   "name": "python",
   "nbconvert_exporter": "python",
   "pygments_lexer": "ipython3",
   "version": "3.12.2"
  }
 },
 "nbformat": 4,
 "nbformat_minor": 2
}
