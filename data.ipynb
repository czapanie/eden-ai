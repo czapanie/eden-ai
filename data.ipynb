{
 "cells": [
  {
   "cell_type": "code",
   "execution_count": 18,
   "metadata": {},
   "outputs": [],
   "source": [
    "import os\n",
    "import numpy as np"
   ]
  },
  {
   "cell_type": "code",
   "execution_count": 10,
   "metadata": {},
   "outputs": [],
   "source": [
    "path = os.path.dirname(\"dataset\")\n"
   ]
  },
  {
   "cell_type": "code",
   "execution_count": 65,
   "metadata": {},
   "outputs": [],
   "source": [
    "data = {}\n",
    "for folder in os.listdir(\"dataset\"):\n",
    "    counter = 0\n",
    "    for file in os.scandir(\"dataset/{}\".format(folder)):\n",
    "        counter += 1\n",
    "    data[folder] = counter\n",
    "    counter = 0"
   ]
  },
  {
   "cell_type": "code",
   "execution_count": 17,
   "metadata": {},
   "outputs": [
    {
     "name": "stdout",
     "output_type": "stream",
     "text": [
      "{\"Abies alba 'Pyramidalis'\": 240, 'Abies concolor': 283, 'Abies koreana': 265, \"Abies koreana 'Kristallkugel'\": 266, \"Abies koreana 'Oberon'\": 31, \"Abies koreana 'Silberlocke'\": 89, \"Abies lasiocarpa 'Compacta'\": 213, 'Abies nordmanniana': 230, \"Abies nordmanniana 'Barabits Compact'\": 234, \"Abies nordmanniana 'Golden Spreader'\": 279, \"Abies pinsapo 'Glauca'\": 310, \"Abies procera 'Glauca'\": 256, \"Acanthus 'Whitewater'\": 250, \"Acer campestre 'Elsrijk'\": 254, \"Acer negundo 'Flamingo'\": 251, 'Acer platanoides': 286, \"Acer platanoides 'Crimson Sentry'\": 297, \"Acer platanoides 'Drummondii'\": 314, \"Acer platanoides 'Faassen's Black'\": 314, \"Acer platanoides 'Globosum'\": 262, \"Acer platanoides 'Golden Globe'\": 210, \"Acer platanoides 'Royal Red'\": 334, \"Acer pseudoplatanus 'Brilliantissimum'\": 321, \"Acer pseudoplatanus 'Leopoldii'\": 284, \"Acer pseudoplatanus 'Worley'\": 237, 'Acer rubrum': 300, \"Acer rubrum RED SUNSET 'Franksred'\": 186, 'Acer saccharinum': 324, 'Acer tataricum subsp. ginnala': 274, \"Achillea 'Terracotta'\": 249, \"Achillea millefolium 'Cerise Queen'\": 240, \"Achillea millefolium 'Paprika'\": 217, \"Achillea ptarmica 'Nana Compacta'\": 215, \"Actaea simplex 'Black Negligee'\": 257, 'Aesculus hippocastanum': 376, \"Aesculus ×carnea 'Briotii'\": 240, \"Agapanthus 'Arctic Star'\": 252, \"Agastache 'Blue Boa' PBR\": 235, \"Ajuga reptans BLACK SCALLOP 'Binblasca'\": 218, \"Alcea rosea 'Pleniflora'\": 246, \"Allium 'Globemaster'\": 322, 'Allium giganteum': 322, 'Alnus glutinosa': 298, 'Anchusa azurea': 293, \"Anemone hupehensis 'Prinz Heinrich'\": 319, 'Anemone nemorosa': 378, \"Anemone ×hybrida 'Andrea Atkinson'\": 230, \"Anemone ×hybrida 'Honorine Jobert'\": 297, \"Anemone ×hybrida 'Königin Charlotte'\": 292, \"Anemone ×hybrida 'Mont-rose'\": 287, \"Anemone ×hybrida 'Pamina'\": 251, \"Anemone ×hybrida 'Serenade'\": 220, \"Anemone ×hybrida 'Whirlwind'\": 277, 'Angelica gigas': 274, \"Anthemis ×hybrida 'Sauce Hollandaise'\": 257, \"Aquilegia vulgaris 'Black Barlow'\": 298, \"Aquilegia vulgaris 'Blue Barlow'\": 308, \"Aquilegia vulgaris 'Rose Barlow'\": 269, \"Aquilegia vulgaris 'Ruby Port'\": 248, \"Aquilegia vulgaris 'White Barlow'\": 359, 'Aronia melanocarpa': 327, \"Artemisia schmidtiana 'Silver Mound'\": 237, 'Aruncus dioicus': 329, \"Aster 'Bahamas'\": 269, \"Aster 'Lady in Blue'\": 318, \"Aster 'Samoa'\": 222, \"Aster ageratoides 'Stardust'\": 363, \"Aster ageratoides 'Tiny Theo'\": 292, \"Astilbe 'Amerika'\": 253, \"Astilbe 'Augustleuchten'\": 231, \"Astilbe 'Deutschland'\": 261, \"Astilbe 'Düsseldorf'\": 282, \"Astilbe 'Fanal'\": 260, \"Astilbe 'Flamingo' PBR\": 275, \"Astilbe 'Inshriach Pink'\": 298, \"Astilbe 'Lollipop'\": 259, \"Astilbe 'Maggie Daley'\": 257, \"Astilbe 'Nikky'\": 228, \"Astilbe 'Pink Lightning' PBR\": 149, \"Astilbe 'Spartan'\": 281, \"Astilbe 'Sprite'\": 273, \"Astilbe 'Vision in White'\": 310, \"Astilbe 'White Sensation' PBR\": 268, \"Astilbe 'White Wings' PBR\": 238, \"Astilbe chinensis 'Vision in Pink' PBR\": 204, \"Astilbe chinensis 'Vision in Red' PBR\": 216, \"Astilbe chinensis 'Vision'\": 304, \"Astilbe ELIZABETH BLOOM 'Eliblo'\": 291, \"Astrantia major 'Roma' PBR\": 270, \"Athyrium filix-femina 'Dre's Dagger'\": 238, \"Athyrium niponicum 'Burgundy Lace'\": 247, \"Aubrieta 'Hamburger Stadtpark'\": 226, 'Aurinia saxatilis': 286, 'Berberis julianae': 282, 'Berberis thunbergii': 378, \"Berberis thunbergii 'Admiration' PBR\": 301, \"Berberis thunbergii 'Atropurpurea Nana'\": 290, \"Berberis thunbergii 'Atropurpurea'\": 322, \"Berberis thunbergii 'Aurea'\": 285, \"Berberis thunbergii 'Bagatelle'\": 357, \"Berberis thunbergii 'Carmen'\": 266, \"Berberis thunbergii 'Concorde'\": 308, \"Berberis thunbergii 'Dart's Red Lady'\": 205, \"Berberis thunbergii 'Diabolicum'\": 261, \"Berberis thunbergii 'Erecta'\": 232, \"Berberis thunbergii 'Goldalita'\": 265, \"Berberis thunbergii 'Green Carpet'\": 373, \"Berberis thunbergii 'Harlequin'\": 256, \"Berberis thunbergii 'Helmond Pillar'\": 221, \"Berberis thunbergii 'Inspiration'\": 290, \"Berberis thunbergii 'Kobold'\": 321, \"Berberis thunbergii 'Maria' PBR\": 336, \"Berberis thunbergii 'Red Carpet'\": 323, \"Berberis thunbergii 'Red Chief'\": 271, \"Berberis thunbergii 'Red Pillar'\": 281, \"Berberis thunbergii 'Red Rocket'\": 350, \"Berberis thunbergii 'Sunsation'\": 338, \"Berberis thunbergii 'Tiny Gold' PBR\": 342, \"Berberis thunbergii BONANZA GOLD 'Bogozam'\": 254, \"Berberis ×ottawensis 'Superba'\": 255, \"Bergenia 'Jelle'\": 318, \"Bergenia 'Rotblum'\": 301, 'Bergenia cordifolia': 290, \"Betonica macrantha 'Superba'\": 287, \"Betonica officinalis 'Hummelo'\": 209, 'Betula pendula': 279, \"Betula utilis 'Doorenbos'\": 230, 'Briza media': 298, \"Brunnera macrophylla 'Silver Heart' PBR\": 295, \"Brunnera macrophylla 'Variegata'\": 301, \"Buddleja davidii 'Black Knight'\": 309, \"Buddleja davidii 'Nanho Blue'\": 383, \"Buddleja davidii 'Nanho Purple'\": 339, \"Buddleja davidii 'Nanho White'\": 276, \"Buddleja davidii 'Royal Red'\": 219, \"Buxus microphylla 'Faulkner'\": 253, 'Buxus sempervirens': 327, \"Buxus sempervirens 'Aureovariegata'\": 267, 'Calamagrostis brachytricha': 280, \"Calamagrostis ×acutiflora 'Karl Foerster'\": 283, \"Calamagrostis ×acutiflora 'Overdam'\": 225, 'Caltha palustris': 400, \"Calycanthus ×raulstonii 'Hartlage Wine'\": 362, \"Campanula 'Samantha'\": 229, \"Campanula glomerata 'Acaulis'\": 260, \"Campanula persicifolia 'Alba'\": 240, \"Campanula persicifolia 'Coerulea'\": 212, \"Campanula poscharskyana 'Stella'\": 238, \"Carex brunnea 'Lady Sunshine'\": 290, 'Carex buchananii': 0, \"Carex comans 'Frosted Curls'\": 322, \"Carex comans AMAZON MIST COLORGRASS 'Amazon Mist'\": 241, \"Carex comans MILK CHOCOLATE 'Milchoc'\": 216, \"Carex conica 'Snowline'\": 258, \"Carex elata 'Aurea'\": 249, \"Carex morrowii 'Ice Dance'\": 281, \"Carex morrowii 'Variegata'\": 0, \"Carex muskingumensis 'Little Midge'\": 228, \"Carex oshimensis 'Evergold'\": 356, \"Carex oshimensis 'Maxigold'\": 0, \"Carex panicea 'Pamira'\": 304, 'Carex pendula': 296, \"Carex testacea 'Prairie Fire'\": 266, \"Carpinus betulus 'Fastigiata'\": 288, \"Carpinus betulus 'Frans Fontaine'\": 245, \"Carpinus betulus 'Monument'\": 272, \"Catalpa bignonioides 'Nana'\": 284, \"Centaurea montana 'Black Sprite'\": 238, \"Cephalotaxus harringtonii 'Fastigiata'\": 303, 'Cercidiphyllum japonicum': 284, \"Chaenomeles ×superba 'Cameo'\": 231, \"Chaenomeles ×superba 'Elly Mossel'\": 248, \"Chamaecyparis lawsoniana 'Columnaris'\": 281, \"Chamaecyparis lawsoniana 'Imbricata Pendula'\": 212, \"Chamaecyparis lawsoniana 'Ivonne'\": 248, \"Chamaecyparis obtusa 'Aurora'\": 225, \"Chamaecyparis obtusa 'Nana Aurea'\": 298, \"Chamaecyparis obtusa 'Nana Gracilis'\": 195, \"Chamaecyparis pisifera 'Filifera Nana'\": 328, 'Chasmanthium latifolium': 389, \"Chelone obliqua 'Alba'\": 278, \"Chrysanthemum 'Clara Curtis'\": 274, \"Clethra alnifolia 'Hummingbird'\": 189, \"Clethra alnifolia 'Pink Spire'\": 237, 'Convallaria majalis': 389, \"Cordyline 'Purple Tower'\": 249, \"Cordyline australis 'Red Star'\": 270, \"Cornus alba 'Aurea'\": 291, \"Cornus alba 'Elegantissima'\": 238, \"Cornus alba 'Gouchaultii'\": 200, \"Cornus alba 'Kesselringii'\": 208, \"Cornus alba 'Sibirica Variegata'\": 273, \"Cornus alba 'Sibirica'\": 331, \"Cornus alba BATON ROUGE 'Minbat'\": 266, 'Cornus canadensis': 265, \"Cornus kousa 'China Girl'\": 309, \"Cornus kousa 'Milky Way'\": 256, \"Cornus kousa 'Satomi'\": 214, \"Cornus kousa 'Weisse Fontäne'\": 274, \"Cornus sanguinea 'Midwinter Fire'\": 319, \"Cornus sericea 'Flaviramea'\": 290, \"Cornus sericea 'Kelseyi'\": 244, \"Cornus VENUS 'KN30 8' PBR\": 321, 'Cortaderia selloana': 366, \"Cortaderia selloana 'Pumila'\": 237, \"Cortaderia selloana 'Rosea'\": 256, 'Corylus avellana': 254, 'Corylus colurna': 282, \"Corylus maxima 'Purpurea'\": 287, 'Cosmos atrosanguineus': 257, 'Cotinus coggygria': 358, \"Cotinus coggygria 'Lilla' PBR\": 232, \"Cotinus coggygria 'Royal Purple'\": 286, 'Cotoneaster bullatus': 334, \"Cotoneaster dammeri 'Major'\": 247, \"Cotoneaster dammeri 'Mooncreeper'\": 312, 'Cotoneaster horizontalis': 284, 'Cotoneaster lucidus': 232, \"Cotoneaster procumbens 'Queen of Carpets'\": 251, \"Cotoneaster procumbens 'Streib's Findling'\": 268, \"Cotoneaster radicans 'Eichholz'\": 279, \"Cotoneaster salicifolius 'Parkteppich'\": 287, \"Cotoneaster ×suecicus 'Coral Beauty'\": 253, 'Crambe maritima': 330, \"Crataegus ×media 'Paul's Scarlet'\": 237, \"Crocosmia 'Emberglow'\": 213, \"Crocosmia 'Emily McKenzie'\": 250, \"Crocosmia 'Lucifer'\": 271, \"Crocosmia 'Mistral'\": 391, \"Crocosmia 'Red King'\": 232, \"Crocosmia 'Twilight Fairy Crimson'\": 287, \"Crocosmia 'Twilight Fairy Gold'\": 373, 'Darmera peltata': 351, \"Delphinium 'Pagan Purples'\": 275, \"Delphinium 'Purple Passion'\": 321, \"Delphinium 'Royal Aspirations'\": 308, 'Deschampsia cespitosa': 339, \"Deschampsia cespitosa 'Bronzeschleier'\": 293, \"Deschampsia cespitosa 'Goldschleier'\": 302, \"Deutzia 'Rosea Plena'\": 289, \"Deutzia scabra 'Candidissima'\": 291, \"Deutzia ×hybrida 'Strawberry Fields'\": 264, \"Deutzia ×rosea 'Campanulata'\": 265, \"Dicentra 'Ivory Hearts' PBR\": 337, \"Dicentra 'King of Hearts'\": 333, \"Dicentra 'Red Fountain' PBR\": 257, \"Dicentra formosa 'Luxuriant'\": 251, 'Dicentra spectabilis': 271, \"Dicentra spectabilis 'Alba'\": 313, \"Dicentra spectabilis 'Gold Heart' PBR\": 239, \"Dicentra spectabilis VALENTINE 'Hordival' PBR\": 225, 'Digitalis purpurea': 293, \"Doronicum orientale 'Little Leo'\": 238, \"Echinacea 'Flamingo'\": 215, \"Echinacea 'Fountain Pink Eye'\": 275, \"Echinacea 'Parrot'\": 191, \"Echinacea 'Tangerine Dream'\": 255, \"Echinacea 'Tiki Torch' PBR\": 206, \"Echinacea 'Tomato Soup'\": 239, \"Echinacea 'Yellow Pearl'\": 240, \"Echinacea CARROT CAKE 'Carrot 486'\": 204, 'Echinacea Cheyenne Spirit': 257, \"Echinacea DELICIOUS CANDY 'Noortdeli' PBR\": 2, 'Echinacea purpurea': 396, \"Echinacea purpurea 'Alba'\": 301, \"Echinacea purpurea 'Aloha' PBR\": 267, \"Echinacea purpurea 'Butterfly Kisses' PBR\": 233, \"Echinacea purpurea 'Flame Thrower'\": 183, \"Echinacea purpurea 'Magnus'\": 338, 'Echinops ritro': 279, \"Equisetum hyemale 'Japonicum'\": 240, 'Eragrostis spectabilis': 266, \"Eryngium 'Jos Eijking'\": 265, \"Eryngium alpinum 'Blue Star'\": 382, \"Eryngium ×zabelii 'Big Blue' PBR\": 263, 'Euonymus alatus': 31, \"Euonymus alatus 'Compactus'\": 226, \"Euonymus fortunei 'Coloratus'\": 261, \"Euonymus fortunei 'Emerald 'n' Gold'\": 32, \"Euonymus fortunei 'Emerald Gaiety'\": 254, \"Eupatorium maculatum 'Atropurpureum'\": 261, \"Euphorbia characias 'Tasmanian Tiger' PBR\": 254, 'Fagus sylvatica': 124, \"Fagus sylvatica 'Atropunicea'\": 34, \"Fagus sylvatica 'Dawyck Purple'\": 33, \"Fagus sylvatica 'Pendula'\": 31, \"Fagus sylvatica 'Purple Fountain'\": 32, \"Fagus sylvatica 'Purpurea Pendula'\": 31, \"Fagus sylvatica 'Rohan Weeping'\": 34, 'Fallopia baldschuanica': 236, \"Fargesia 'Jiuzhaigou 1'\": 315, \"Fargesia 'Obelisk' PBR\": 32, \"Fargesia denudata 'Lancaster'\": 29, \"Fargesia murielae 'Dino'\": 288, \"Fargesia murielae 'Jumbo'\": 254, \"Fargesia nitida 'Black Pearl'\": 323, \"Fargesia nitida 'Great Wall'\": 216, \"Fargesia nitida 'Volcano'\": 195, \"Fargesia robusta 'Pingwu'\": 229, 'Fargesia rufa': 268, 'Festuca gautieri': 245, \"Festuca glauca 'Azurit'\": 288, \"Festuca glauca 'Blauglut'\": 309, \"Festuca glauca 'Elijah Blue'\": 311, 'Filipendula ulmaria': 327, \"Forsythia 'Maluch'\": 278, \"Forsythia ×intermedia 'Lynwood'\": 263, \"Forsythia ×intermedia MINIGOLD 'Flojor'\": 302, \"Frangula alnus 'Aspleniifolia'\": 247, 'Fraxinus excelsior': 314, \"Gaultheria procumbens 'Red Baron'\": 247, \"Gaura lindheimeri 'Graceful White'\": 250, \"Gaura lindheimeri 'Passionate Blush' PBR\": 246, \"Gaura lindheimeri ROSY JANE 'Harrosy' PBR\": 277, \"Geranium 'Pink Penny'\": 261, \"Geranium himalayense 'Plenum'\": 261, \"Geranium macrorrhizum 'Czakor'\": 297, \"Geranium macrorrhizum 'Ingwersen's Variety'\": 242, \"Geranium macrorrhizum 'Spessart'\": 219, \"Geranium phaeum 'Samobor'\": 238, \"Geranium pratense 'Mrs Kendall Clark'\": 262, \"Geranium ROZANNE 'Gerwat' PBR\": 302, \"Geranium sanguineum 'Album'\": 327, \"Geranium sanguineum 'Max Frei'\": 213, \"Geranium ×cantabrigiense 'Cambridge'\": 346, \"Geum 'Bohema Pink'\": 333, \"Geum 'Pink Petticoats'\": 315, \"Geum rivale 'Flames of Passion' PBR\": 206, \"Geum rivale 'Mai Tai' PBR\": 278, 'Ginkgo biloba': 336, \"Ginkgo biloba 'Mariken'\": 287, 'Glyceria maxima': 308, \"Hakonechloa macra 'Aureola'\": 254, \"Hamamelis ×intermedia 'Diane'\": 194, \"Hamamelis ×intermedia 'Jelena'\": 322, \"Hamamelis ×intermedia 'Pallida'\": 272, \"Hebe 'Emerald Gem'\": 31, 'Hedera helix': 286, \"Hedera helix 'Thorndale'\": 255, 'Hedera hibernica': 269, \"Helenium 'Siesta'\": 218, \"Helianthus 'Suncatcher Pure Gold'\": 284, \"Helictotrichon sempervirens 'Saphirsprudel'\": 219, \"Heliopsis helianthoides 'Goldgrünherz'\": 328, \"Helleborus niger 'Praecox'\": 311, 'Helleborus orientalis': 355, \"Helleborus orientalis 'Double Ellen Picotee'\": 300, \"Helleborus orientalis 'Double Ellen Pink'\": 294, \"Helleborus orientalis 'Double Ellen White'\": 303, \"Hemerocallis 'Arctic Snow'\": 211, \"Hemerocallis 'Bela Lugosi'\": 220, \"Hemerocallis 'Brilliant Circle'\": 185, \"Hemerocallis 'Double Dream'\": 180, \"Hemerocallis 'Frans Hals'\": 282, \"Hemerocallis 'Luxory Lace'\": 224, \"Hemerocallis 'Maksymilian Kolbe'\": 271, \"Hemerocallis 'Mallard'\": 288, \"Hemerocallis 'Open My Eyes'\": 230, \"Hemerocallis 'Stella de Oro'\": 309, \"Hemerocallis 'Vanilla Fluff'\": 203, \"Heuchera 'Amber Waves' PBR\": 314, \"Heuchera 'Autumn Leaves'\": 322, \"Heuchera 'Cherry Cola'\": 329, \"Heuchera 'Georgia Plum'\": 328, \"Heuchera 'Midas Touch'\": 261, \"Heuchera 'Midnight Rose'\": 291, \"Heuchera 'Obsidian' PBR\": 290, \"Heuchera 'Plum Pudding'\": 182, \"Heuchera 'Velvet Night'\": 239, \"Heuchera 'Vesuvius'\": 293, 'Hippophae rhamnoides': 343, \"Holcus mollis 'Jackdawn's Cream'\": 247, \"Hosta 'American Halo'\": 218, \"Hosta 'Antioch'\": 346, \"Hosta 'Big Daddy'\": 343, \"Hosta 'Blue Angel'\": 354, \"Hosta 'Blue Mouse Ears'\": 297, \"Hosta 'Brim Cup'\": 275, \"Hosta 'Cherry Berry'\": 288, \"Hosta 'Dream Queen'\": 346, \"Hosta 'Elegans'\": 357, \"Hosta 'Fire and Ice'\": 307, \"Hosta 'Golden Tiara'\": 290, \"Hosta 'June'\": 330, \"Hosta 'Liberty' PBR\": 218, \"Hosta 'Patriot'\": 351, \"Hosta 'Praying Hands'\": 288, \"Hosta 'Purple Heart'\": 304, \"Hosta 'Raspberry Sundae'\": 256, \"Hosta 'Sum and Substance'\": 293, \"Houttuynia cordata 'Chameleon'\": 293, \"Hydrangea arborescens 'Annabelle'\": 186, \"Hydrangea macrophylla 'Bela' PBR\": 35, \"Hydrangea macrophylla 'Bodensee'\": 356, \"Hydrangea macrophylla 'Deutschland'\": 32, \"Hydrangea macrophylla 'Leuchtfeuer'\": 34, \"Hydrangea macrophylla 'Schneeball'\": 27, \"Hydrangea macrophylla BLACK DIAMONDS DARK ANGEL 'Dark Angel'\": 114, \"Hydrangea macrophylla DUTCH LADIES 'Selma'\": 242, \"Hydrangea paniculata 'Grandiflora'\": 152, \"Hydrangea paniculata 'Limelight' PBR\": 293, \"Hydrangea paniculata 'Phantom'\": 238, \"Hydrangea paniculata 'Polar Bear'\": 33, \"Hydrangea paniculata 'Silver Dollar'\": 340, \"Hydrangea paniculata LITTLE LIME 'Jane'\": 220, \"Hydrangea paniculata MAGICAL MOONLIGHT 'Kolmagimo' PBR\": 333, \"Hydrangea paniculata PINKY WINKY 'DVPPinky' PBR\": 225, \"Hydrangea paniculata SUNDAE FRAISE 'Rensun' PBR\": 249, \"Hydrangea paniculata VANILLE-FRAISE 'Renhy' PBR\": 280, 'Hydrangea petiolaris': 288, \"Hydrangea quercifolia 'Black Porch'\": 319, \"Hydrangea serrata 'Bluebird'\": 30, \"Iberis 'Masterpiece'\": 235, \"Iberis sempervirens 'Purity'\": 269, \"Ilex aquifolium 'Alaska'\": 34, \"Ilex aquifolium 'J.C. van Tol'\": 33, \"Ilex ×meserveae 'Blue Angel'\": 27, \"Ilex ×meserveae 'Blue Prince'\": 275, \"Ilex ×meserveae 'Blue Princess'\": 223, \"Ilex ×meserveae 'Hecken Star' PBR\": 33, \"Ilex ×meserveae LITTLE RASCAL 'Mondo'\": 31, \"Imperata cylindrica 'Red Baron'\": 259, 'Incarvillea delavayi': 354, \"Incarvillea delavayi 'Snowtop'\": 247, \"Iris 'Rikugi Sakura'\": 329, \"Iris 'Wine Wings'\": 237, \"Iris sibirica 'Butter and Sugar'\": 264, \"Iris sibirica 'Contrast in Styles'\": 191, \"Iris sibirica 'Dawn Waltz'\": 311, \"Iris sibirica 'Double Standard'\": 278, \"Iris sibirica 'Flight of Butterflies'\": 287, \"Iris sibirica 'Gull's Wing'\": 219, \"Iris sibirica 'Jewelled Crown'\": 229, \"Iris sibirica 'Snow Queen'\": 283, \"Iris sibirica 'Sparkling Rose'\": 268, \"Iris sibirica 'Teal Velvet'\": 189, \"Iris sibirica 'White Swirl'\": 333, 'Juglans nigra': 290, 'Juglans regia': 307, 'Juncus effusus': 317, \"Juncus effusus 'Spiralis'\": 294, \"Juniperus chinensis 'Blue Alps'\": 250, \"Juniperus chinensis 'Plumosa Aureovariegata'\": 31, \"Juniperus chinensis 'Stricta'\": 294, \"Juniperus communis 'Gold Cone'\": 257, \"Juniperus communis 'Goldschatz'\": 272, \"Juniperus communis 'Green Carpet'\": 305, \"Juniperus conferta 'Blue Pacific'\": 248, \"Juniperus conferta 'Schlager'\": 263, \"Juniperus horizontalis 'Andorra Compact'\": 254, \"Juniperus horizontalis 'Blue Chip'\": 268, \"Juniperus horizontalis 'Blue Forest'\": 347, \"Juniperus horizontalis 'Golden Carpet'\": 277, \"Juniperus horizontalis 'Limeglow'\": 289, \"Juniperus horizontalis 'Prince of Wales'\": 255, \"Juniperus horizontalis 'Wiltonii'\": 303, \"Juniperus horizontalis ICEE BLUE 'Monber' PBR\": 224, \"Juniperus procumbens 'Nana'\": 372, \"Juniperus sabina 'Tamariscifolia'\": 258, \"Juniperus squamata 'Blue Carpet'\": 299, \"Juniperus squamata 'Blue Star'\": 407, \"Juniperus squamata 'Dream Joy'\": 288, \"Juniperus squamata 'Holger'\": 249, \"Juniperus ×pfitzeriana 'Gold Star'\": 247, \"Juniperus ×pfitzeriana 'Goldkissen'\": 248, \"Juniperus ×pfitzeriana 'Old Gold'\": 313, \"Juniperus ×pfitzeriana 'Pfitzeriana Compacta'\": 232, \"Kalimeris incisa 'Blue Star'\": 308, 'Koeleria glauca': 311, \"Kolkwitzia amabilis 'Pink Cloud'\": 32, \"Laburnum ×watereri 'Vossii'\": 30, \"Lamium maculatum 'Anne Greenaway'\": 248, 'Larix decidua': 316, \"Larix decidua 'Pendula'\": 202, \"Larix kaempferi 'Stiff Weeper'\": 250, \"Lavandula angustifolia 'Dwarf Blue'\": 37, \"Lavandula angustifolia 'Hidcote'\": 245, \"Lavandula angustifolia 'Munstead'\": 120, \"Leucothoe fontanesiana 'Rainbow'\": 278, \"Leucothoe SCARLETTA 'Zeblid'\": 264, 'Leymus arenarius': 278, \"Leymus arenarius 'Blue Dune'\": 260, \"Liatris spicata 'Alba'\": 255, \"Liatris spicata 'Kobold'\": 227, \"Ligularia dentata 'Desdemona'\": 296, 'Ligularia przewalskii': 340, \"Ligularia stenocephala 'The Rocket'\": 213, 'Ligularia ×hessei': 283, 'Ligustrum vulgare': 243, \"Liquidambar styraciflua 'Worplesdon'\": 145, 'Liriodendron tulipifera': 31, \"Liriodendron tulipifera 'Aureomarginatum'\": 25, \"Liriope muscari 'Big Blue'\": 320, \"Lonicera caerulea 'Wojtek'\": 288, \"Lonicera nitida 'Elegant'\": 30, 'Lonicera pileata': 31, \"Lysimachia ciliata 'Firecracker'\": 301, \"Magnolia 'Galaxy'\": 35, \"Magnolia 'Genie' PBR\": 31, \"Magnolia denudata YELLOW RIVER 'Fei Huang'\": 35, 'Magnolia kobus': 269, \"Magnolia liliiflora 'Nigra'\": 33, 'Magnolia stellata': 33, \"Magnolia stellata 'Royal Star'\": 29, \"Magnolia ×brooklynensis 'Yellow Bird'\": 30, \"Magnolia ×loebneri 'Leonard Messel'\": 31, 'Magnolia ×soulangeana': 31, \"Mahonia aquifolium 'Apollo'\": 35, \"Malus 'Golden Hornet'\": 292, \"Malus 'John Downie'\": 282, \"Malus 'Profusion'\": 194, \"Malus 'Royalty'\": 28, \"Malus 'Rudolph'\": 234, \"Malus domestica 'Antonówka Zwykła'\": 324, \"Malus domestica 'Cortland'\": 222, \"Malus domestica 'Gala'\": 30, \"Malus domestica 'Geneva Early'\": 294, \"Malus domestica 'Gloster'\": 251, \"Malus domestica 'Golden Delicious'\": 249, \"Malus domestica 'James Grieve'\": 212, \"Malus domestica 'Koksa Pomarańczowa'\": 301, \"Malus domestica 'Malinowa Oberlandzka'\": 268, \"Malus domestica 'Oliwka Żółta'\": 301, \"Malus domestica 'Rode Boskoop'\": 208, \"Malus domestica 'Sampion'\": 239, 'Miscanthus sacchariflorus': 178, \"Miscanthus sinensis 'Adagio'\": 322, \"Miscanthus sinensis 'Ferner Osten'\": 294, \"Miscanthus sinensis 'Gracillimus'\": 267, \"Miscanthus sinensis 'Graziella'\": 268, \"Miscanthus sinensis 'Little Zebra' PBR\": 244, \"Miscanthus sinensis 'Malepartus'\": 300, \"Miscanthus sinensis 'Memory'\": 253, \"Miscanthus sinensis 'Morning Light'\": 315, \"Miscanthus sinensis 'Polonus' PBR\": 283, \"Miscanthus sinensis 'Pünktchen'\": 274, 'Miscanthus ×giganteus': 331, \"Miscanthus ×giganteus ALIGATOR 'Lottum' PBR\": 231, 'Molinia caerulea': 328, \"Molinia caerulea 'Heidebraut'\": 325, \"Molinia caerulea 'Moorhexe'\": 230, 'Muhlenbergia capillaris': 259, \"Nepeta 'Walker's Low'\": 274, \"Ophiopogon planiscapus 'Niger'\": 284, 'Pachysandra terminalis': 316, \"Pachysandra terminalis 'Green Carpet'\": 32, \"Panicum virgatum 'Shenandoah'\": 267, 'Parthenocissus quinquefolia var. murorum': 338, \"Parthenocissus tricuspidata 'Veitchii'\": 258, 'Paulownia tomentosa': 31, \"Pennisetum advena 'Rubrum'\": 213, \"Pennisetum alopecuroides 'Hameln'\": 273, \"Pennisetum alopecuroides 'Lady U'\": 238, \"Pennisetum alopecuroides 'Little Bunny'\": 322, \"Pennisetum alopecuroides 'Moudry'\": 206, \"Pennisetum alopecuroides 'Red Head'\": 221, 'Phalaris arundinacea': 275, \"Phalaris arundinacea 'Feesey'\": 232, \"Phalaris arundinacea 'Picta'\": 251, \"Philadelphus 'Biały Karzeł'\": 322, \"Philadelphus 'Justynka'\": 32, 'Philadelphus coronarius': 290, 'Phlomis cashmeriana': 247, 'Phlomis russeliana': 334, \"Phlomis tuberosa 'Amazone'\": 263, 'Phragmites australis': 286, 'Phyllostachys aurea': 254, \"Phyllostachys aureosulcata 'Spectabilis'\": 282, 'Phyllostachys bissetii': 264, 'Phyllostachys nigra': 334, \"Phyllostachys vivax 'Aureocaulis'\": 336, \"Physocarpus opulifolius 'Diabolo'\": 229, \"Physocarpus opulifolius 'Luteus'\": 292, \"Physocarpus opulifolius 'Red Baron'\": 33, \"Physocarpus opulifolius LADY IN RED 'Tuilad' PBR\": 30, 'Picea abies': 332, \"Picea abies 'Formanek'\": 243, \"Picea abies 'Inversa'\": 255, \"Picea abies 'Little Gem'\": 232, \"Picea abies 'Nidiformis'\": 239, \"Picea abies 'Virgata'\": 293, \"Picea glauca 'Alberta Globe'\": 234, \"Picea glauca 'Blue Planet'\": 327, \"Picea glauca 'Conica'\": 237, \"Picea glauca 'Daisy's White'\": 335, \"Picea glauca 'Echiniformis'\": 312, 'Picea omorika': 260, \"Picea omorika 'Bruns'\": 253, \"Picea omorika 'Nana'\": 360, \"Picea orientalis 'Aureospicata'\": 253, \"Picea pungens 'Białobok'\": 256, \"Picea pungens 'Edith'\": 254, \"Picea pungens 'Glauca Globosa'\": 268, \"Picea pungens 'Iseli Fastigiate'\": 238, 'Picea pungens Glauca Group': 261, 'Pinus cembra': 273, \"Pinus cembra 'Compacta Glauca'\": 262, 'Pinus heldreichii': 232, \"Pinus heldreichii 'Compact Gem'\": 281, \"Pinus heldreichii 'Malinki'\": 272, \"Pinus heldreichii 'Satellit'\": 222, \"Pinus heldreichii 'Smidtii'\": 245, \"Pinus mugo 'Benjamin'\": 228, \"Pinus mugo 'Carsten'\": 222, \"Pinus mugo 'Goldstar'\": 215, \"Pinus mugo 'Humpy'\": 320, \"Pinus mugo 'Jakobsen'\": 319, \"Pinus mugo 'Litomyšl'\": 229, \"Pinus mugo 'Mops'\": 239, \"Pinus mugo 'Ophir'\": 282, \"Pinus mugo 'Pal Maleter'\": 263, \"Pinus mugo 'Picobello'\": 230, \"Pinus mugo 'Varella'\": 252, \"Pinus mugo 'Winter Gold'\": 212, 'Pinus mugo subsp. mugo': 380, 'Pinus mugo var. pumilio': 291, \"Pinus nigra 'Green Tower'\": 226, \"Pinus nigra 'Hornibrookiana'\": 30, \"Pinus nigra 'Oregon Green'\": 300, 'Pinus nigra subsp. nigra': 272, \"Pinus parviflora 'Glauca'\": 229, 'Pinus sylvestris': 253, \"Pinus sylvestris 'Watereri'\": 248, \"Pinus ×schwerinii 'Wiethorst'\": 255, 'Platanus ×hispanica': 31, \"Platycladus orientalis 'Aurea Nana'\": 251, \"Potentilla fruticosa 'Abbotswood'\": 32, \"Potentilla fruticosa 'Goldfinger'\": 28, \"Potentilla fruticosa 'Goldstar'\": 29, \"Potentilla fruticosa 'Goldteppich'\": 227, \"Potentilla fruticosa 'Tilford Cream'\": 255, \"Primula denticulata 'Rubin'\": 325, \"Primula rosea 'Grandiflora'\": 238, \"Prunus 'Kiku-shidare-zakura'\": 211, \"Prunus avium 'Kordia'\": 242, \"Prunus avium 'Lapins'\": 264, \"Prunus avium 'Regina'\": 273, \"Prunus avium 'Sam'\": 235, \"Prunus avium 'Sanmit'\": 258, \"Prunus avium BURLAT 'Bigarreau Burlat'\": 230, \"Prunus cerasifera 'Nigra'\": 34, \"Prunus cerasus 'Groniasta z Ujfehertoi'\": 282, \"Prunus cerasus 'Kelleris 16'\": 234, \"Prunus cerasus 'Lucyna'\": 287, \"Prunus cerasus 'Umbraculifera'\": 240, \"Prunus cerasus 'Łutówka'\": 214, \"Prunus domestica 'Renkloda Ulena'\": 102, \"Prunus domestica 'Węgierka Dąbrowicka'\": 263, \"Prunus domestica 'Węgierka Zwykła'\": 34, \"Prunus incisa 'Kojou-no-mai'\": 228, \"Prunus laurocerasus 'Otto Luyken'\": 28, \"Prunus laurocerasus 'Rotundifolia'\": 32, \"Prunus laurocerasus ETNA 'Anbri'\": 221, \"Prunus persica 'Inka'\": 264, \"Prunus serrulata 'Amanogawa'\": 251, \"Prunus serrulata 'Kanzan'\": 32, \"Prunus serrulata 'Royal Burgundy'\": 31, 'Prunus spinosa': 31, 'Prunus triloba': 29, 'Prunus ×cistena': 29, \"Pulmonaria 'Moonshine'\": 193, \"Pulsatilla vulgaris 'Papageno'\": 339, \"Pulsatilla vulgaris 'Röde Klokke'\": 298, \"Pyracantha coccinea 'Red Column'\": 246, 'Pyracantha coccinea var. kuntayi': 283, \"Pyrus calleryana 'Chanticleer'\": 30, \"Pyrus communis 'Faworytka'\": 291, \"Pyrus communis 'Konferencja'\": 287, \"Pyrus communis 'Lukasówka'\": 295, \"Quercus palustris 'Green Dwarf'\": 251, 'Quercus robur': 358, \"Quercus robur 'Fastigiata'\": 31, 'Quercus rubra': 262, \"Rheum rhabarbarum 'Red Champagne'\": 293, 'Rhus typhina': 278, \"Ribes alpinum 'Schmidt'\": 200, \"Ribes niveum 'Biała z Jűterbog'\": 297, \"Ribes rubrum 'Jonkheer van Tets'\": 288, \"Ribes sanguineum 'King Edward VII'\": 222, \"Ribes uva-crispa HINNONMÄKI RÖD 'Hinnonmäen Punainen'\": 242, \"Robinia pseudoacacia 'Umbraculifera'\": 250, \"Rosa 'Bonica'\": 335, \"Rosa 'Hansa'\": 382, \"Rosa 'Moje Hammarberg'\": 287, \"Rosa 'Nozomi'\": 245, \"Rosa 'The Fairy'\": 384, 'Rosa canina': 429, \"Rosa DART'S DEFENDER 'Defender'\": 351, \"Rosa ELFRID 'Kormuse'\": 316, \"Rosa FAIRY DANCE 'Harward'\": 289, \"Rosa GELBE DAGMAR HASTRUP 'Moryelrug'\": 236, \"Rosa MARATHON 'Bokrathon' PBR\": 257, \"Rosa ROSARIUM UETERSEN 'Kortersen'\": 222, 'Rosa rugosa': 366, \"Rosa rugosa 'Alba'\": 274, 'Rosa spinosissima': 332, \"Rosa YELLOW FAIRY 'Poulfair'\": 330, 'Rosa ×paulii': 261, 'Rosmarinus officinalis': 417, \"Rubus fruticosus 'Black Satin'\": 217, \"Rudbeckia fulgida 'Goldsturm'\": 240, \"Rudbeckia laciniata 'Goldquelle'\": 284, 'Rudbeckia maxima': 236, \"Salix caprea 'Kilmarnock'\": 234, \"Salix integra 'Hakuro-nishiki'\": 242, \"Salix integra 'Pendula'\": 31, \"Salvia 'Pink Delight' PBR\": 293, 'Salvia argentea': 308, \"Salvia nemorosa 'Blue Field' PBR\": 295, \"Salvia nemorosa 'Ostfriesland'\": 293, \"Salvia nemorosa 'Pink Field' PBR\": 240, 'Sambucus nigra': 28, \"Sambucus nigra 'Aurea'\": 32, \"Sambucus nigra 'Madonna'\": 214, \"Sambucus nigra BLACK BEAUTY 'Gerda' PBR\": 239, \"Sambucus nigra BLACK LACE 'Eva' PBR\": 32, \"Sambucus racemosa 'Sutherland Gold'\": 258, \"Schizachyrium scoparium 'Standing Ovation' PBR\": 231, 'Sciadopitys verticillata': 329, \"Sedum 'Matrona'\": 260, \"Sedum 'Mr Goodbud' PBR\": 219, \"Sedum spectabile 'Brillant'\": 257, 'Sesleria autumnalis': 243, 'Sesleria caerulea': 292, \"Skimmia japonica 'Rubella'\": 260, \"Sorbaria sorbifolia 'Sem' PBR\": 299, 'Sorbus aria': 228, \"Sorbus aria 'Aurea'\": 259, \"Sorbus aria 'Magnifica'\": 219, 'Sorbus aucuparia': 301, \"Sorbus aucuparia 'Fastigiata'\": 263, \"Sorbus aucuparia 'Pendula'\": 297, 'Sorbus commixta': 317, 'Sorbus intermedia': 303, \"Spiraea japonica 'Albiflora'\": 33, \"Spiraea japonica 'Anthony Waterer'\": 221, \"Spiraea japonica 'Candlelight'\": 282, \"Spiraea japonica 'Crispa'\": 30, \"Spiraea japonica 'Dart's Red'\": 148, \"Spiraea japonica 'Froebelii'\": 222, \"Spiraea japonica 'Goldflame'\": 32, \"Spiraea japonica 'Goldmound'\": 27, \"Spiraea japonica 'Japanese Dwarf'\": 233, \"Spiraea japonica 'Little Princess'\": 269, \"Spiraea japonica 'Macrophylla'\": 293, \"Spiraea nipponica 'Halward's Silver'\": 200, \"Spiraea nipponica 'June Bride'\": 225, \"Spiraea nipponica 'Snowmound'\": 244, 'Spiraea ×arguta': 229, \"Spiraea ×cinerea 'Grefsheim'\": 223, 'Spiraea ×vanhouttei': 252, \"Stachys byzantina 'Silver Carpet'\": 277, \"Stephanandra incisa 'Crispa'\": 277, 'Stipa ichu': 200, \"Stipa tenuissima 'Ponytails'\": 239, \"Symphoricarpos ×chenaultii 'Hancock'\": 230, \"Syringa meyeri 'Palibin'\": 291, \"Syringa patula 'Miss Kim'\": 271, \"Syringa vulgaris 'Charles Joly'\": 247, \"Syringa vulgaris 'Jan van Tol'\": 330, \"Syringa vulgaris 'Michel Buchner'\": 274, \"Syringa vulgaris 'Mme Lemoine'\": 222, \"Syringa vulgaris LUDWIG SPAETH 'Andenken an Ludwig Späth'\": 235, \"Syringa vulgaris ROSE DE MOSCOU 'Minkarl'\": 256, \"Tanacetum 'Robinson's Red'\": 214, \"Taxus baccata 'David'\": 338, \"Taxus baccata 'Fastigiata Aurea'\": 247, \"Taxus baccata 'Fastigiata Robusta'\": 240, \"Taxus baccata 'Fastigiata'\": 286, \"Taxus baccata 'Repandens'\": 213, \"Taxus baccata 'Summergold'\": 246, \"Taxus ×media 'Hicksii'\": 73, \"Taxus ×media 'Hillii'\": 278, \"Taxus ×media 'Wojtek'\": 280, \"Thuja occidentalis 'Brabant'\": 352, \"Thuja occidentalis 'Danica'\": 259, \"Thuja occidentalis 'Globosa'\": 231, \"Thuja occidentalis 'Golden Tuffet'\": 367, \"Thuja occidentalis 'Mirjam' PBR\": 269, \"Thuja occidentalis 'Smaragd'\": 275, \"Thuja occidentalis 'Stolwijk'\": 266, \"Thuja occidentalis 'Tiny Tim'\": 285, \"Thuja occidentalis 'Woodwardii'\": 283, \"Thuja occidentalis 'Yellow Ribbon'\": 362, \"Thuja occidentalis GOLDEN SMARAGD 'Janed Gold' PBR\": 299, \"Thuja plicata 'Can-Can'\": 267, \"Thuja plicata 'Whipcord'\": 279, \"Thuja plicata GOLDY '4ever' PBR\": 256, \"Tilia cordata 'Greenspire'\": 219, 'Tilia euchlora': 228, 'Tilia platyphyllos': 318, \"Tilia tomentosa 'Brabant'\": 233, 'Tsuga canadensis': 239, 'Typha angustifolia': 338, 'Typha minima': 276, \"Ulmus 'Camperdownii'\": 223, \"Ulmus ×hollandica 'Wredei'\": 265, \"Vaccinium corymbosum 'Bluecrop'\": 276, \"Vaccinium corymbosum 'Darrow'\": 28, \"Verbascum 'Rosie'\": 254, \"Verbascum 'Sugar Plum' PBR\": 204, \"Verbascum 'White Domino'\": 274, \"Veronica spicata ROYAL CANDLES 'Glory' PBR\": 214, 'Viburnum opulus': 292, \"Viburnum opulus 'Nanum'\": 221, \"Viburnum opulus 'Roseum'\": 296, \"Viburnum plicatum 'Watanabe'\": 299, 'Viburnum rhytidophyllum': 244, 'Viburnum ×carlcephalum': 299, \"Vinca minor 'Alba'\": 271, \"Vinca minor 'Atropurpurea'\": 295, \"Vinca minor 'Gertrude Jekyll'\": 289, \"Vinca minor 'Ralph Shugert'\": 274, \"Vinca minor 'Sebastian'\": 33, \"Vinca minor MOONLIT 'Parvin'\": 217, 'Vinca minor Plena Group': 250, 'Vinca minor Variegata Group': 249, \"Weigela 'Boskoop Glory'\": 249, \"Weigela 'Bristol Ruby'\": 255, \"Weigela 'Candida'\": 275, \"Weigela 'Eva Rathke'\": 256, \"Weigela 'Evita'\": 253, \"Weigela 'Nana Variegata'\": 269, \"Weigela 'Newport Red'\": 273, \"Weigela 'Red Prince'\": 266, \"Weigela florida 'Nana Purpurea'\": 263, \"Weigela florida WINE & ROSES 'Alexandra'\": 253, 'Yucca filamentosa': 312, \"×Heucherella 'Alabama Sunrise' PBR\": 192, \"×Heucherella 'Mojito'\": 202}\n"
     ]
    }
   ],
   "source": [
    "print(data)"
   ]
  },
  {
   "cell_type": "code",
   "execution_count": 63,
   "metadata": {},
   "outputs": [
    {
     "name": "stdout",
     "output_type": "stream",
     "text": [
      "77\n"
     ]
    }
   ],
   "source": [
    "count = 0\n",
    "for specie in data:\n",
    "    if (data.get(specie)) <= 35:\n",
    "        count += 1\n",
    "print(count)"
   ]
  },
  {
   "cell_type": "code",
   "execution_count": 35,
   "metadata": {},
   "outputs": [
    {
     "name": "stdout",
     "output_type": "stream",
     "text": [
      "Abies koreana 'Silberlocke'\n",
      "Hydrangea macrophylla 'Bela' PBR\n",
      "Lavandula angustifolia 'Dwarf Blue'\n",
      "Magnolia 'Galaxy'\n",
      "Magnolia denudata YELLOW RIVER 'Fei Huang'\n",
      "Mahonia aquifolium 'Apollo'\n",
      "Taxus ×media 'Hicksii'\n",
      "7\n"
     ]
    }
   ],
   "source": [
    "count = 0\n",
    "for specie in data:\n",
    "    if (data.get(specie)) >= 35 and (data.get(specie)) <= 100:\n",
    "        count += 1\n",
    "        print(specie)\n",
    "print(count)"
   ]
  },
  {
   "cell_type": "code",
   "execution_count": 61,
   "metadata": {},
   "outputs": [
    {
     "name": "stdout",
     "output_type": "stream",
     "text": [
      "29\n"
     ]
    }
   ],
   "source": [
    "count = 0\n",
    "for specie in data:\n",
    "    if (data.get(specie)) >= 100 and (data.get(specie)) <= 200:\n",
    "        count += 1\n",
    "print(count)"
   ]
  },
  {
   "cell_type": "code",
   "execution_count": 40,
   "metadata": {},
   "outputs": [
    {
     "data": {
      "text/plain": [
       "429"
      ]
     },
     "execution_count": 40,
     "metadata": {},
     "output_type": "execute_result"
    }
   ],
   "source": [
    "max(data.values())"
   ]
  },
  {
   "cell_type": "code",
   "execution_count": 60,
   "metadata": {},
   "outputs": [
    {
     "name": "stdout",
     "output_type": "stream",
     "text": [
      "179\n"
     ]
    }
   ],
   "source": [
    "count = 0\n",
    "for specie in data:\n",
    "    if (data.get(specie)) >= 300:\n",
    "        count += 1\n",
    "print(count)"
   ]
  },
  {
   "cell_type": "code",
   "execution_count": 59,
   "metadata": {},
   "outputs": [
    {
     "name": "stdout",
     "output_type": "stream",
     "text": [
      "Rosa canina\n"
     ]
    }
   ],
   "source": [
    "for specie in data:\n",
    "    if (data.get(specie)) == 429:\n",
    "        print(specie)\n"
   ]
  },
  {
   "cell_type": "code",
   "execution_count": 45,
   "metadata": {},
   "outputs": [
    {
     "data": {
      "text/plain": [
       "248.14939759036145"
      ]
     },
     "execution_count": 45,
     "metadata": {},
     "output_type": "execute_result"
    }
   ],
   "source": [
    "np.mean(list(data.values()))"
   ]
  },
  {
   "cell_type": "code",
   "execution_count": 58,
   "metadata": {},
   "outputs": [
    {
     "name": "stdout",
     "output_type": "stream",
     "text": [
      "Agastache 'Blue Fortune'\n",
      "\n",
      "Ajuga tenorei PRINCESS NADIA 'Piotrek01'\n",
      "\n",
      "Alchemilla mollis\n",
      "\n",
      "Alchemilla mollis 'Auslese'\n",
      "\n"
     ]
    }
   ],
   "source": [
    "found = False\n",
    "with open(\"data.txt\", 'r', encoding='utf-8') as file:\n",
    "    for specie in file:\n",
    "        for folder in os.listdir(\"dataset\"):\n",
    "            if specie.strip() == folder:\n",
    "                found = True\n",
    "                break\n",
    "        if found == False:\n",
    "            print(specie)\n",
    "        found = False"
   ]
  }
 ],
 "metadata": {
  "kernelspec": {
   "display_name": "Python 3",
   "language": "python",
   "name": "python3"
  },
  "language_info": {
   "codemirror_mode": {
    "name": "ipython",
    "version": 3
   },
   "file_extension": ".py",
   "mimetype": "text/x-python",
   "name": "python",
   "nbconvert_exporter": "python",
   "pygments_lexer": "ipython3",
   "version": "3.12.2"
  }
 },
 "nbformat": 4,
 "nbformat_minor": 2
}
